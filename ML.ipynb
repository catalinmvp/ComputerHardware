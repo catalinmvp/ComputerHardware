{
 "cells": [
  {
   "source": [
    "<text>\n",
    "    <h1 style=\"text-align:center\"> <a href=\"https://archive.ics.uci.edu/ml/datasets/Computer+Hardware\">  Computer Hardware project  </a>  </h1>\n",
    "    <br>\n",
    "    <h3>Documentation: </h3>\n",
    "    <ul> \n",
    "        <li> <a href=\"https://scikit-learn.org/stable/modules/generated/sklearn.preprocessing.MinMaxScaler.html\">  MinMaxScaler  </a>  </li>   \n",
    "        <li> <a href=\"https://scikit-learn.org/stable/modules/generated/sklearn.linear_model.LinearRegression.html\">  Linear Regression</a> </li> \n",
    "        <li> <a href=\"https://scikit-learn.org/stable/modules/classes.html#module-sklearn.kernel_ridge\">  Ridge Regression</a> </li> \n",
    "        <li> <a href=\"https://www.w3schools.com/python/pandas/default.asp\">  Pandas </a>  </li> \n",
    "        \n",
    "</text>"
   ],
   "cell_type": "markdown",
   "metadata": {}
  },
  {
   "source": [],
   "cell_type": "markdown",
   "metadata": {}
  },
  {
   "source": [
    "<text>\n",
    "    For this project, given a set of data containing comuter hardaware we will train a machine to give the best results.\n",
    "    Some categories(columns) may provide unbalance data which will not be useful for our machine which will determine us to drop the column.\n",
    "    At the end we will train our machine and use Linear Regression and Ridge Regression for proper results.\n",
    "</text>"
   ],
   "cell_type": "markdown",
   "metadata": {}
  },
  {
   "cell_type": "code",
   "execution_count": 1,
   "metadata": {},
   "outputs": [],
   "source": [
    "import numpy as np\n",
    "import pandas as pd\n",
    "import seaborn as sn\n",
    "import matplotlib.pyplot as plt\n",
    "from sklearn.preprocessing import MinMaxScaler\n",
    "from sklearn.model_selection import train_test_split\n",
    "from sklearn.metrics         import confusion_matrix\n",
    "from sklearn.metrics         import mean_absolute_error as mae \n",
    "from sklearn.metrics         import mean_squared_error  as mse\n",
    "from sklearn.neighbors       import KNeighborsClassifier as knn\n",
    "from sklearn.linear_model    import LinearRegression, Ridge, RidgeCV"
   ]
  },
  {
   "cell_type": "code",
   "execution_count": 2,
   "metadata": {},
   "outputs": [],
   "source": [
    "def interpret (model, x_train, y_train, x_test, y_test, label = None, fit=True):\n",
    "    # this function helps us to interpret the performances of the model by showing the matrics and the ConfMatrix  \n",
    "\n",
    "    if fit:\n",
    "        try: model.fit(x_train, y_train)\n",
    "        except: pass\n",
    "\n",
    "    if label: print (label + ' Interpretation:')\n",
    "\n",
    "    predicted_train = model.predict(x_train)\n",
    "    predicted_test  = model.predict(x_test)\n",
    "\n",
    "    print(f'Train Score: {model.score(x_train, y_train) :.3f}') \n",
    "    print(f'Train mae:   {mae(predicted_train, y_train) :.3f}')\n",
    "    print(f'Train mse:   {mse(predicted_train, y_train) :.3f}')\n",
    "\n",
    "    print()\n",
    "\n",
    "    print(f'Test  Score: {model.score(x_test, y_test) :.3f}') \n",
    "    print(f'Test  mae:   {mae(predicted_test, y_test) :.3f}')\n",
    "    print(f'Test  mse:   {mse(predicted_test, y_test) :.3f}')\n",
    "\n",
    "    print()"
   ]
  },
  {
   "source": [
    "<h3>\n",
    "    Preprocesing\n",
    "</h3>\n",
    "<text>\n",
    "     In the following sequences we are dropping the irrelevant information, preventing the missclasification. \n",
    "     <br>\n",
    "     Following the previous action , we will normalise the data in order to favorise the clasification.\n",
    "</text>"
   ],
   "cell_type": "markdown",
   "metadata": {}
  },
  {
   "cell_type": "code",
   "execution_count": 3,
   "metadata": {},
   "outputs": [
    {
     "output_type": "display_data",
     "data": {
      "text/plain": "   myct   nmin   nmax  cach  chmin  chmax   prp   erp\n0   125    256   6000   256     16    128   198   199\n1    29   8000  32000    32      8     32   269   253\n2    29   8000  32000    32      8     32   220   253\n3    29   8000  32000    32      8     32   172   253\n4    29   8000  16000    32      8     16   132   132\n5    26   8000  32000    64      8     32   318   290\n6    23  16000  32000    64     16     32   367   381\n7    23  16000  32000    64     16     32   489   381\n8    23  16000  64000    64     16     32   636   749\n9    23  32000  64000   128     32     64  1144  1238",
      "text/html": "<div>\n<style scoped>\n    .dataframe tbody tr th:only-of-type {\n        vertical-align: middle;\n    }\n\n    .dataframe tbody tr th {\n        vertical-align: top;\n    }\n\n    .dataframe thead th {\n        text-align: right;\n    }\n</style>\n<table border=\"1\" class=\"dataframe\">\n  <thead>\n    <tr style=\"text-align: right;\">\n      <th></th>\n      <th>myct</th>\n      <th>nmin</th>\n      <th>nmax</th>\n      <th>cach</th>\n      <th>chmin</th>\n      <th>chmax</th>\n      <th>prp</th>\n      <th>erp</th>\n    </tr>\n  </thead>\n  <tbody>\n    <tr>\n      <th>0</th>\n      <td>125</td>\n      <td>256</td>\n      <td>6000</td>\n      <td>256</td>\n      <td>16</td>\n      <td>128</td>\n      <td>198</td>\n      <td>199</td>\n    </tr>\n    <tr>\n      <th>1</th>\n      <td>29</td>\n      <td>8000</td>\n      <td>32000</td>\n      <td>32</td>\n      <td>8</td>\n      <td>32</td>\n      <td>269</td>\n      <td>253</td>\n    </tr>\n    <tr>\n      <th>2</th>\n      <td>29</td>\n      <td>8000</td>\n      <td>32000</td>\n      <td>32</td>\n      <td>8</td>\n      <td>32</td>\n      <td>220</td>\n      <td>253</td>\n    </tr>\n    <tr>\n      <th>3</th>\n      <td>29</td>\n      <td>8000</td>\n      <td>32000</td>\n      <td>32</td>\n      <td>8</td>\n      <td>32</td>\n      <td>172</td>\n      <td>253</td>\n    </tr>\n    <tr>\n      <th>4</th>\n      <td>29</td>\n      <td>8000</td>\n      <td>16000</td>\n      <td>32</td>\n      <td>8</td>\n      <td>16</td>\n      <td>132</td>\n      <td>132</td>\n    </tr>\n    <tr>\n      <th>5</th>\n      <td>26</td>\n      <td>8000</td>\n      <td>32000</td>\n      <td>64</td>\n      <td>8</td>\n      <td>32</td>\n      <td>318</td>\n      <td>290</td>\n    </tr>\n    <tr>\n      <th>6</th>\n      <td>23</td>\n      <td>16000</td>\n      <td>32000</td>\n      <td>64</td>\n      <td>16</td>\n      <td>32</td>\n      <td>367</td>\n      <td>381</td>\n    </tr>\n    <tr>\n      <th>7</th>\n      <td>23</td>\n      <td>16000</td>\n      <td>32000</td>\n      <td>64</td>\n      <td>16</td>\n      <td>32</td>\n      <td>489</td>\n      <td>381</td>\n    </tr>\n    <tr>\n      <th>8</th>\n      <td>23</td>\n      <td>16000</td>\n      <td>64000</td>\n      <td>64</td>\n      <td>16</td>\n      <td>32</td>\n      <td>636</td>\n      <td>749</td>\n    </tr>\n    <tr>\n      <th>9</th>\n      <td>23</td>\n      <td>32000</td>\n      <td>64000</td>\n      <td>128</td>\n      <td>32</td>\n      <td>64</td>\n      <td>1144</td>\n      <td>1238</td>\n    </tr>\n  </tbody>\n</table>\n</div>"
     },
     "metadata": {}
    },
    {
     "output_type": "display_data",
     "data": {
      "text/plain": "   myct   nmin   nmax  cach  chmin  chmax   prp   erp\n0   125    256   6000   256     16    128   198   199\n1    29   8000  32000    32      8     32   269   253\n2    29   8000  32000    32      8     32   220   253\n3    29   8000  32000    32      8     32   172   253\n4    29   8000  16000    32      8     16   132   132\n5    26   8000  32000    64      8     32   318   290\n6    23  16000  32000    64     16     32   367   381\n7    23  16000  32000    64     16     32   489   381\n8    23  16000  64000    64     16     32   636   749\n9    23  32000  64000   128     32     64  1144  1238",
      "text/html": "<div>\n<style scoped>\n    .dataframe tbody tr th:only-of-type {\n        vertical-align: middle;\n    }\n\n    .dataframe tbody tr th {\n        vertical-align: top;\n    }\n\n    .dataframe thead th {\n        text-align: right;\n    }\n</style>\n<table border=\"1\" class=\"dataframe\">\n  <thead>\n    <tr style=\"text-align: right;\">\n      <th></th>\n      <th>myct</th>\n      <th>nmin</th>\n      <th>nmax</th>\n      <th>cach</th>\n      <th>chmin</th>\n      <th>chmax</th>\n      <th>prp</th>\n      <th>erp</th>\n    </tr>\n  </thead>\n  <tbody>\n    <tr>\n      <th>0</th>\n      <td>125</td>\n      <td>256</td>\n      <td>6000</td>\n      <td>256</td>\n      <td>16</td>\n      <td>128</td>\n      <td>198</td>\n      <td>199</td>\n    </tr>\n    <tr>\n      <th>1</th>\n      <td>29</td>\n      <td>8000</td>\n      <td>32000</td>\n      <td>32</td>\n      <td>8</td>\n      <td>32</td>\n      <td>269</td>\n      <td>253</td>\n    </tr>\n    <tr>\n      <th>2</th>\n      <td>29</td>\n      <td>8000</td>\n      <td>32000</td>\n      <td>32</td>\n      <td>8</td>\n      <td>32</td>\n      <td>220</td>\n      <td>253</td>\n    </tr>\n    <tr>\n      <th>3</th>\n      <td>29</td>\n      <td>8000</td>\n      <td>32000</td>\n      <td>32</td>\n      <td>8</td>\n      <td>32</td>\n      <td>172</td>\n      <td>253</td>\n    </tr>\n    <tr>\n      <th>4</th>\n      <td>29</td>\n      <td>8000</td>\n      <td>16000</td>\n      <td>32</td>\n      <td>8</td>\n      <td>16</td>\n      <td>132</td>\n      <td>132</td>\n    </tr>\n    <tr>\n      <th>5</th>\n      <td>26</td>\n      <td>8000</td>\n      <td>32000</td>\n      <td>64</td>\n      <td>8</td>\n      <td>32</td>\n      <td>318</td>\n      <td>290</td>\n    </tr>\n    <tr>\n      <th>6</th>\n      <td>23</td>\n      <td>16000</td>\n      <td>32000</td>\n      <td>64</td>\n      <td>16</td>\n      <td>32</td>\n      <td>367</td>\n      <td>381</td>\n    </tr>\n    <tr>\n      <th>7</th>\n      <td>23</td>\n      <td>16000</td>\n      <td>32000</td>\n      <td>64</td>\n      <td>16</td>\n      <td>32</td>\n      <td>489</td>\n      <td>381</td>\n    </tr>\n    <tr>\n      <th>8</th>\n      <td>23</td>\n      <td>16000</td>\n      <td>64000</td>\n      <td>64</td>\n      <td>16</td>\n      <td>32</td>\n      <td>636</td>\n      <td>749</td>\n    </tr>\n    <tr>\n      <th>9</th>\n      <td>23</td>\n      <td>32000</td>\n      <td>64000</td>\n      <td>128</td>\n      <td>32</td>\n      <td>64</td>\n      <td>1144</td>\n      <td>1238</td>\n    </tr>\n  </tbody>\n</table>\n</div>"
     },
     "metadata": {}
    },
    {
     "output_type": "display_data",
     "data": {
      "text/plain": "              myct          nmin          nmax        cach       chmin  \\\ncount   209.000000    209.000000    209.000000  209.000000  209.000000   \nmean    203.822967   2867.980861  11796.153110   25.205742    4.698565   \nstd     260.262926   3878.742758  11726.564377   40.628722    6.816274   \nmin      17.000000     64.000000     64.000000    0.000000    0.000000   \n25%      50.000000    768.000000   4000.000000    0.000000    1.000000   \n50%     110.000000   2000.000000   8000.000000    8.000000    2.000000   \n75%     225.000000   4000.000000  16000.000000   32.000000    6.000000   \nmax    1500.000000  32000.000000  64000.000000  256.000000   52.000000   \n\n            chmax          prp          erp  \ncount  209.000000   209.000000   209.000000  \nmean    18.267943   105.622010    99.330144  \nstd     25.997318   160.830733   154.757102  \nmin      0.000000     6.000000    15.000000  \n25%      5.000000    27.000000    28.000000  \n50%      8.000000    50.000000    45.000000  \n75%     24.000000   113.000000   101.000000  \nmax    176.000000  1150.000000  1238.000000  ",
      "text/html": "<div>\n<style scoped>\n    .dataframe tbody tr th:only-of-type {\n        vertical-align: middle;\n    }\n\n    .dataframe tbody tr th {\n        vertical-align: top;\n    }\n\n    .dataframe thead th {\n        text-align: right;\n    }\n</style>\n<table border=\"1\" class=\"dataframe\">\n  <thead>\n    <tr style=\"text-align: right;\">\n      <th></th>\n      <th>myct</th>\n      <th>nmin</th>\n      <th>nmax</th>\n      <th>cach</th>\n      <th>chmin</th>\n      <th>chmax</th>\n      <th>prp</th>\n      <th>erp</th>\n    </tr>\n  </thead>\n  <tbody>\n    <tr>\n      <th>count</th>\n      <td>209.000000</td>\n      <td>209.000000</td>\n      <td>209.000000</td>\n      <td>209.000000</td>\n      <td>209.000000</td>\n      <td>209.000000</td>\n      <td>209.000000</td>\n      <td>209.000000</td>\n    </tr>\n    <tr>\n      <th>mean</th>\n      <td>203.822967</td>\n      <td>2867.980861</td>\n      <td>11796.153110</td>\n      <td>25.205742</td>\n      <td>4.698565</td>\n      <td>18.267943</td>\n      <td>105.622010</td>\n      <td>99.330144</td>\n    </tr>\n    <tr>\n      <th>std</th>\n      <td>260.262926</td>\n      <td>3878.742758</td>\n      <td>11726.564377</td>\n      <td>40.628722</td>\n      <td>6.816274</td>\n      <td>25.997318</td>\n      <td>160.830733</td>\n      <td>154.757102</td>\n    </tr>\n    <tr>\n      <th>min</th>\n      <td>17.000000</td>\n      <td>64.000000</td>\n      <td>64.000000</td>\n      <td>0.000000</td>\n      <td>0.000000</td>\n      <td>0.000000</td>\n      <td>6.000000</td>\n      <td>15.000000</td>\n    </tr>\n    <tr>\n      <th>25%</th>\n      <td>50.000000</td>\n      <td>768.000000</td>\n      <td>4000.000000</td>\n      <td>0.000000</td>\n      <td>1.000000</td>\n      <td>5.000000</td>\n      <td>27.000000</td>\n      <td>28.000000</td>\n    </tr>\n    <tr>\n      <th>50%</th>\n      <td>110.000000</td>\n      <td>2000.000000</td>\n      <td>8000.000000</td>\n      <td>8.000000</td>\n      <td>2.000000</td>\n      <td>8.000000</td>\n      <td>50.000000</td>\n      <td>45.000000</td>\n    </tr>\n    <tr>\n      <th>75%</th>\n      <td>225.000000</td>\n      <td>4000.000000</td>\n      <td>16000.000000</td>\n      <td>32.000000</td>\n      <td>6.000000</td>\n      <td>24.000000</td>\n      <td>113.000000</td>\n      <td>101.000000</td>\n    </tr>\n    <tr>\n      <th>max</th>\n      <td>1500.000000</td>\n      <td>32000.000000</td>\n      <td>64000.000000</td>\n      <td>256.000000</td>\n      <td>52.000000</td>\n      <td>176.000000</td>\n      <td>1150.000000</td>\n      <td>1238.000000</td>\n    </tr>\n  </tbody>\n</table>\n</div>"
     },
     "metadata": {}
    }
   ],
   "source": [
    "dataset = pd.read_csv('machine.data', sep=',', header=None, names = ['vendor', 'model', 'myct', 'nmin', 'nmax', 'cach', 'chmin', 'chmax', 'prp', 'erp']) \\\n",
    "    .drop(columns=['model', 'vendor'])\n",
    "display(dataset.head(10))\n",
    "\n",
    "# unbalanced input -> droped\n",
    "# keys = dataset['vendor'].value_counts().keys()\n",
    "# vendors = dict(zip(keys, list(range(len(keys)))))\n",
    "# dataset['vendor'] = dataset['vendor'].apply(lambda x: vendors[x])\n",
    "\n",
    "# all unique models -> droped\n",
    "# keys = dataset['model'].value_counts().keys()\n",
    "# models = dict(zip(keys, list(range(len(keys)))))\n",
    "# dataset['model'] = dataset['model'].apply(lambda x: models[x])\n",
    "\n",
    "display(dataset.head(10))\n",
    "display(dataset.describe())"
   ]
  },
  {
   "source": [
    "<h4>\n",
    "    DataSet\n",
    "</h4>\n",
    "<text>\n",
    "    We are spliting the data into input and output.\n",
    "</text>"
   ],
   "cell_type": "markdown",
   "metadata": {}
  },
  {
   "cell_type": "code",
   "execution_count": 4,
   "metadata": {},
   "outputs": [],
   "source": [
    "train, test = train_test_split(dataset, test_size=0.1)\n",
    "y_train = train['erp'].to_numpy().astype(np.int)\n",
    "y_test = test['erp'].to_numpy().astype(np.int)\n",
    "x_train = train.drop(columns=['erp']).to_numpy()\n",
    "x_test = test.drop(columns=['erp']).to_numpy()"
   ]
  },
  {
   "source": [
    "<h4>\n",
    "    Interpretation using Linear Regression and Ridge Regression.\n",
    "</h4>"
   ],
   "cell_type": "markdown",
   "metadata": {}
  },
  {
   "cell_type": "code",
   "execution_count": 5,
   "metadata": {},
   "outputs": [
    {
     "output_type": "stream",
     "name": "stdout",
     "text": [
      "Train Score: 0.960\nTrain mae:   20.326\nTrain mse:   1008.339\n\nTest  Score: 0.947\nTest  mae:   20.355\nTest  mse:   633.005\n\n"
     ]
    }
   ],
   "source": [
    "interpret(LinearRegression(), x_train, y_train, x_test, y_test)"
   ]
  },
  {
   "cell_type": "code",
   "execution_count": 6,
   "metadata": {},
   "outputs": [
    {
     "output_type": "stream",
     "name": "stdout",
     "text": [
      "Train Score: 0.960\nTrain mae:   20.326\nTrain mse:   1008.339\n\nTest  Score: 0.947\nTest  mae:   20.355\nTest  mse:   633.004\n\n"
     ]
    }
   ],
   "source": [
    "interpret(Ridge(), x_train, y_train, x_test, y_test)"
   ]
  },
  {
   "cell_type": "code",
   "execution_count": 7,
   "metadata": {},
   "outputs": [
    {
     "output_type": "stream",
     "name": "stdout",
     "text": [
      "Train Score: 0.960\nTrain mae:   20.326\nTrain mse:   1008.339\n\nTest  Score: 0.947\nTest  mae:   20.354\nTest  mse:   633.002\n\n"
     ]
    }
   ],
   "source": [
    "interpret(RidgeCV(), x_train, y_train, x_test, y_test)"
   ]
  },
  {
   "cell_type": "code",
   "execution_count": null,
   "metadata": {},
   "outputs": [],
   "source": []
  }
 ],
 "metadata": {
  "kernelspec": {
   "name": "python385jvsc74a57bd0b3ba2566441a7c06988d0923437866b63cedc61552a5af99d1f4fb67d367b25f",
   "display_name": "Python 3.8.5 64-bit ('base': conda)"
  },
  "language_info": {
   "codemirror_mode": {
    "name": "ipython",
    "version": 3
   },
   "file_extension": ".py",
   "mimetype": "text/x-python",
   "name": "python",
   "nbconvert_exporter": "python",
   "pygments_lexer": "ipython3",
   "version": "3.8.5"
  }
 },
 "nbformat": 4,
 "nbformat_minor": 4
}